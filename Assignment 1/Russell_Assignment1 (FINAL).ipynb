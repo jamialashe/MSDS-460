{
 "cells": [
  {
   "cell_type": "markdown",
   "id": "97db8efb-847c-496d-9b30-3635f543f0ef",
   "metadata": {},
   "source": [
    "## **Assignment 1**"
   ]
  },
  {
   "cell_type": "markdown",
   "id": "bcf37bfc-a893-407e-ac03-a346feac2f33",
   "metadata": {},
   "source": [
    "### **Question 1**"
   ]
  },
  {
   "cell_type": "code",
   "execution_count": 1,
   "id": "b7ee83f2-6ea0-40fa-b4b1-c5ffeb523107",
   "metadata": {},
   "outputs": [
    {
     "name": "stdout",
     "output_type": "stream",
     "text": [
      "Status: 1\n",
      "Optimal value of Z (minimum): 2017.5\n",
      "Optimal values:\n",
      "Aw1 = 60.0\n",
      "Aw2 = 0.0\n",
      "Bw1 = 17.5\n",
      "Bw2 = 62.5\n",
      "Cw1 = 50.0\n",
      "Cw2 = 0.0\n"
     ]
    }
   ],
   "source": [
    "import pulp\n",
    "from pulp import LpVariable, LpProblem, LpMaximize, LpStatus, value, LpMinimize\n",
    "\n",
    "prob = LpProblem(\"problem\", LpMinimize)\n",
    "\n",
    "#variables\n",
    "Aw1 = LpVariable('Aw1', 0, None)\n",
    "Bw1 = LpVariable('Bw1', 0, None)\n",
    "Cw1 = LpVariable('Cw1', 0, None)\n",
    "Aw2 = LpVariable('Aw2', 0, None)\n",
    "Bw2 = LpVariable('Bw2', 0, None)\n",
    "Cw2 = LpVariable('Cw2', 0, None)\n",
    "\n",
    "#obj\n",
    "prob += 10 * Aw1 + 9 * Aw2 + 11 * Bw1 + 10 * Bw2 + 12 * Cw1 + 13 * Cw2\n",
    "\n",
    "#prod constraints\n",
    "prob += Aw1 + Aw2 >= 60\n",
    "prob += Bw1 + Bw2 >= 80 \n",
    "prob += Cw1 + Cw2 >= 50 \n",
    "\n",
    "#time constraints\n",
    "prob += 2 * Aw1 + 4 * Bw1 + 3 * Cw1 <= 350\n",
    "\n",
    "prob += 9 * Aw2 + 4 * Bw2 + 7 * Cw2 <= 250\n",
    "\n",
    "#solve \n",
    "status = prob.solve()\n",
    "print(\"Status:\", prob.status)\n",
    "print(\"Optimal value of Z (minimum):\", prob.objective.value())\n",
    "print(\"Optimal values:\")\n",
    "for v in prob.variables():\n",
    "    print(v.name, \"=\", v.varValue)\n"
   ]
  },
  {
   "cell_type": "markdown",
   "id": "cbfa6f64-0355-497d-9c5f-d3afec4c03e2",
   "metadata": {},
   "source": [
    "### **Question 2**"
   ]
  },
  {
   "cell_type": "code",
   "execution_count": 14,
   "id": "22c25340-dd12-40e0-af31-f7603e2a891d",
   "metadata": {},
   "outputs": [
    {
     "name": "stdout",
     "output_type": "stream",
     "text": [
      "Status: 1\n",
      "Optimal value of Z (minimum): 71771.42885\n",
      "Optimal values:\n",
      "x1 = 45.0\n",
      "x2 = 51.571429\n"
     ]
    }
   ],
   "source": [
    "import pulp\n",
    "from pulp import LpVariable, LpProblem, LpMaximize, LpStatus, value, LpMinimize\n",
    "\n",
    "# Define the problem\n",
    "prob = LpProblem(\"Maximize Profit\", LpMaximize)\n",
    "\n",
    "# Variables\n",
    "x1 = LpVariable('x1', 0, None)  # Lower bound of 50\n",
    "x2 = LpVariable('x2', 0, None)  # Lower bound of 40\n",
    "\n",
    "# Objective function\n",
    "prob += (850 * x1) + (650 * x2)\n",
    "\n",
    "# Constraints\n",
    "prob += 40 * x1 + 25 * x2 <= 3500, \"Constraint 1\"\n",
    "prob += 120 * x1 + 70 * x2 <= 9010, \"Constraint 2\"\n",
    "prob += 3 * x1 + 2 * x2 <= 250, \"Constraint 3\"\n",
    "prob += x1 >= 45\n",
    "prob += x2 >= 40\n",
    "\n",
    "\n",
    "#solve \n",
    "status = prob.solve()\n",
    "print(\"Status:\", prob.status)\n",
    "print(\"Optimal value of Z (minimum):\", prob.objective.value())\n",
    "print(\"Optimal values:\")\n",
    "for v in prob.variables():\n",
    "    print(v.name, \"=\", v.varValue)\n",
    "\n",
    "\n"
   ]
  },
  {
   "cell_type": "code",
   "execution_count": 15,
   "id": "abc1f409-a894-4190-90c8-7a1c652d3813",
   "metadata": {},
   "outputs": [
    {
     "name": "stdout",
     "output_type": "stream",
     "text": [
      "Status: Optimal\n",
      "Optimal value of Z (maximum): 74493.1815\n",
      "Optimal values:\n",
      "x1 = 45.0\n",
      "x2 = 49.954545\n",
      "x3 = 7.5454545\n"
     ]
    }
   ],
   "source": [
    "import pulp\n",
    "from pulp import LpVariable, LpProblem, LpMaximize, LpStatus, value\n",
    "\n",
    "# Define the problem\n",
    "prob = LpProblem(\"Maximize Profit\", LpMaximize)\n",
    "\n",
    "# Variables\n",
    "x1 = LpVariable('x1', 45, None)  # Couches with lower bound of 45\n",
    "x2 = LpVariable('x2', 40, None)  # Love seats with lower bound of 40\n",
    "x3 = LpVariable('x3', 0, None)   # Reclining chairs with lower bound of 0\n",
    "\n",
    "# Objective function\n",
    "prob += (850 * x1) + (650 * x2) + (500 * x3)\n",
    "\n",
    "# Constraints\n",
    "prob += 40 * x1 + 25 * x2 + 30 * x3 <= 3500, \"Fabric Constraint\"\n",
    "prob += 120 * x1 + 70 * x2 + 15 * x3 <= 9010, \"Stuffing Constraint\"\n",
    "prob += 3 * x1 + 2 * x2 + 2 * x3 <= 250, \"Labor Constraint\"\n",
    "\n",
    "# Solve\n",
    "status = prob.solve()\n",
    "print(\"Status:\", LpStatus[status])\n",
    "print(\"Optimal value of Z (maximum):\", value(prob.objective))\n",
    "print(\"Optimal values:\")\n",
    "for v in prob.variables():\n",
    "    print(v.name, \"=\", v.varValue)\n"
   ]
  },
  {
   "cell_type": "code",
   "execution_count": null,
   "id": "d74a690b-1d23-4c3e-bc05-6e5260a3c80a",
   "metadata": {},
   "outputs": [],
   "source": [
    "import numpy as np\n",
    "import matplotlib.pyplot as plt\n",
    "\n",
    "\n",
    "fig, ax = plt.subplots()\n",
    "\n",
    "\n",
    "x = np.linspace(0, 5, 100)\n",
    "y = (5 + x)/5\n",
    "ax.plot(x, y, color='green', label='-x + 5y = 5')\n",
    "\n",
    "\n",
    "ax.fill_between(x, y, 10, color='green', alpha=0.5)\n",
    "\n",
    "y = (12 - x)/4\n",
    "ax.plot(x, y, color='blue', label='x + 4y = 12')\n",
    "\n",
    "\n",
    "ax.fill_between(x, y, 10, color='blue', alpha=0.5)\n",
    "\n",
    "y = 5 - x\n",
    "ax.plot(x, y, color='red', label='x + y = 5')\n",
    "\n",
    "\n",
    "ax.fill_between(x, y, 10, color='red', alpha=0.5)\n",
    "\n",
    "plt.axvline(x = 5, color = 'purple', label = 'x = 5')\n",
    "\n",
    "#\n",
    "ax.set_xlim(0, 6)\n",
    "ax.set_ylim(0, 6)\n",
    "ax.set_xlabel('x')\n",
    "ax.set_ylabel('y')\n",
    "\n",
    "\n",
    "plt.legend(loc='upper left')\n",
    "\n",
    "#display\n",
    "plt.grid(True)\n",
    "plt.axhline(0, color='black', linewidth=1)\n",
    "plt.axvline(0, color='black', linewidth=1)\n",
    "plt.text(2.5, 3, 'Feasible Region', fontsize = 16)\n",
    "plt.annotate('Optimal Point', xy = (5, 2), \n",
    "             fontsize = 12, xytext = (4.5, 2.5), \n",
    "             arrowprops = dict(facecolor = 'red'),\n",
    "             color = 'black')\n",
    "plt.show()"
   ]
  },
  {
   "cell_type": "markdown",
   "id": "9f79f884-9103-4885-93cd-44e92712e63e",
   "metadata": {},
   "source": [
    "### **Question 4**"
   ]
  },
  {
   "cell_type": "code",
   "execution_count": 9,
   "id": "f78d4885-49a4-4f8b-b233-d8fd59861b1e",
   "metadata": {},
   "outputs": [
    {
     "name": "stdout",
     "output_type": "stream",
     "text": [
      "Optimal Solution:\n",
      "Orchard 1 Bushels: 50.0\n",
      "Orchard 2 Bushels: 30.0\n",
      "Orchard 3 Bushels: 40.0\n",
      "Optimal values:\n",
      "CB1 = 50.0\n",
      "CB2 = 30.0\n",
      "x3 = 40.0\n",
      "y = 1.0\n",
      "Maximized Profit: $ 1630.0\n"
     ]
    }
   ],
   "source": [
    "#I fixed it!! Added parenthesis to the objective function.\n",
    "import pulp\n",
    "from pulp import LpVariable, LpProblem, LpMaximize, LpStatus, value, LpMinimize\n",
    "\n",
    "prob = LpProblem(\"Maximize Profit\", LpMaximize)\n",
    "\n",
    "#variables\n",
    "x1 = LpVariable(\"CB1\", 0, None)  \n",
    "x2 = LpVariable(\"CB2\", 0, None) \n",
    "x3 = pulp.LpVariable('x3', lowBound=0, cat='Continuous')\n",
    "y = pulp.LpVariable('y', cat='Binary')\n",
    "\n",
    "#obj\n",
    "prob += 10 * x1 + 11 * x2 + 20 * x3\n",
    "\n",
    "#constraints\n",
    "prob += 5 * x1 + 6 * x2 + 8 * x3 <= 750 \n",
    "prob += x1 <= 50\n",
    "prob += x3 >= 20 * y \n",
    "prob += x3 <= 40 * y\n",
    "\n",
    "\n",
    "#solve\n",
    "prob.solve()\n",
    "\n",
    "# Print the results\n",
    "print(\"Optimal Solution:\")\n",
    "print(\"Orchard 1 Bushels:\", value(x1))\n",
    "print(\"Orchard 2 Bushels:\", value(x2))\n",
    "print(\"Orchard 3 Bushels:\", value(x3))\n",
    "print(\"Optimal values:\")\n",
    "for v in prob.variables():\n",
    "    print(v.name, \"=\", v.varValue)\n",
    "print(\"Maximized Profit: $\", value(prob.objective))\n"
   ]
  },
  {
   "cell_type": "code",
   "execution_count": 6,
   "id": "8cfb271b-171b-4679-be96-39198b2d0084",
   "metadata": {},
   "outputs": [
    {
     "name": "stdout",
     "output_type": "stream",
     "text": [
      "Optimal Solution:\n",
      "Pounds of Roast 1 sold: 40.0\n",
      "Pounds of Roast 2 sold: 60.0\n",
      "Optimal values:\n",
      "AB1 = 10.0\n",
      "AB2 = 24.0\n",
      "CB1 = 30.0\n",
      "CB2 = 36.0\n",
      "Maximized Profit: $ 191.0\n"
     ]
    }
   ],
   "source": [
    "import pulp\n",
    "from pulp import LpVariable, LpProblem, LpMaximize, LpStatus, value, LpMinimize\n",
    "\n",
    "\n",
    "prob = LpProblem(\"problem\", LpMaximize)\n",
    "\n",
    "#variables\n",
    "CB1 = LpVariable(\"CB1\", 0, None)  #columbian beans in Roast 1\n",
    "CB2 = LpVariable(\"CB2\", 0, None)  #columbian beans in Roast 2\n",
    "AB1 = LpVariable(\"AB1\", 0, None)  #arabian beans in Roast 1\n",
    "AB2 = LpVariable(\"AB2\", 0, None)  #arabian beans in Roast 2\n",
    "\n",
    "#costs\n",
    "costCB = 20 / 5  \n",
    "costAB = 15 / 6   \n",
    "\n",
    "#revenue\n",
    "revenue = 6 * (CB1 + AB1) + 5 * (CB2 + AB2)\n",
    "\n",
    "# Cost part\n",
    "total_cost = costCB * (CB1 + CB2) + costAB * (AB1 + AB2)\n",
    "\n",
    "#obj function\n",
    "prob += revenue - total_cost\n",
    "\n",
    "#constraints\n",
    "prob += CB1 >= 0.75 * (CB1 + AB1) #75 percent CB in R1\n",
    "prob += CB2 >= 0.60 * (CB2 + AB2) #60 percent AB in R2\n",
    "prob += CB1 + AB1 <= 40 \n",
    "prob += CB2 + AB2 <= 60\n",
    "\n",
    "# Solve the problem\n",
    "prob.solve()\n",
    "\n",
    "# Print the results\n",
    "print(\"Optimal Solution:\")\n",
    "print(\"Pounds of Roast 1 sold:\", value(CB1 + AB1))\n",
    "print(\"Pounds of Roast 2 sold:\", value(CB2 + AB2))\n",
    "print(\"Optimal values:\")\n",
    "for v in prob.variables():\n",
    "    print(v.name, \"=\", v.varValue)\n",
    "print(\"Maximized Profit: $\", value(prob.objective))\n"
   ]
  },
  {
   "cell_type": "markdown",
   "id": "69b97a53-039a-4671-bfd8-d7c41d7b9bf7",
   "metadata": {},
   "source": [
    "### **Question 5**"
   ]
  },
  {
   "cell_type": "code",
   "execution_count": null,
   "id": "2741e88c-3a89-4bdb-a99a-185b04f45a80",
   "metadata": {},
   "outputs": [],
   "source": [
    "import pulp\n",
    "from pulp import LpVariable, LpProblem, LpMaximize, LpStatus, value, LpMinimize\n",
    "\n",
    "prob = LpProblem(\"problem\", LpMinimize)\n",
    "\n",
    "\n",
    "x1 = LpVariable(\"x1\", 0, None)  #12am-4am\n",
    "x2 = LpVariable(\"x2\", 0, None)  #4am-8am\n",
    "x3 = LpVariable(\"x3\", 0, None)  #8am-12pm\n",
    "x4 = LpVariable(\"x4\", 0, None) #12pm-4pm\n",
    "x5 = LpVariable(\"x5\", 0, None)  #4pm-8pm\n",
    "x6 = LpVariable(\"x6\", 0, None)  #8pm-12am\n",
    "\n",
    "#obj\n",
    "prob += x1 + x2 + x3 + x4 + x5 + x6\n",
    "\n",
    "#constraints\n",
    "prob += x6 + x1 >= 8\n",
    "prob += x1 + x2 >= 7\n",
    "prob += x2 + x3 >= 5\n",
    "prob += x3 + x4 >= 4\n",
    "prob += x4 + x5 >= 4\n",
    "prob += x5 + x6 >= 7\n",
    "\n",
    "#solve\n",
    "status = prob.solve()\n",
    "print(\"Status:\", prob.status)\n",
    "print(\"Optimal value of Z (minimum):\", prob.objective.value())\n",
    "print(\"Optimal values:\")\n",
    "for v in prob.variables():\n",
    "    print(v.name, \"=\", v.varValue)"
   ]
  }
 ],
 "metadata": {
  "kernelspec": {
   "display_name": "Python 3 (ipykernel)",
   "language": "python",
   "name": "python3"
  },
  "language_info": {
   "codemirror_mode": {
    "name": "ipython",
    "version": 3
   },
   "file_extension": ".py",
   "mimetype": "text/x-python",
   "name": "python",
   "nbconvert_exporter": "python",
   "pygments_lexer": "ipython3",
   "version": "3.11.5"
  }
 },
 "nbformat": 4,
 "nbformat_minor": 5
}
