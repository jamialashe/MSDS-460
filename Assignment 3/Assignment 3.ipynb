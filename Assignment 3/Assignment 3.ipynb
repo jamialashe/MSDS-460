{
 "cells": [
  {
   "cell_type": "markdown",
   "id": "3db58475-51c6-4ff4-9153-5f962ae69256",
   "metadata": {},
   "source": [
    "# **Assignment 3**"
   ]
  },
  {
   "cell_type": "markdown",
   "id": "25cb9713-4cd4-4c59-8b3e-f96535a2e1df",
   "metadata": {},
   "source": [
    "### **Question 1**"
   ]
  },
  {
   "cell_type": "code",
   "execution_count": 1,
   "id": "75c5a65e-d1cb-44dd-8950-3fea3ec54f53",
   "metadata": {},
   "outputs": [
    {
     "name": "stdout",
     "output_type": "stream",
     "text": [
      "Optimal amount of raw material 1: 12.0000 units\n",
      "Optimal amount of raw material 2: 16.0003 units\n",
      "Maximum quantity of fertilizer: 68.0000 units\n"
     ]
    }
   ],
   "source": [
    "import numpy as np\n",
    "from scipy.optimize import minimize\n",
    "\n",
    "#obj function\n",
    "def objective(x):\n",
    "    x1, x2 = x\n",
    "    q = 6 * x1 + 4 * x2 - 0.25 * x1**2 - 0.125 * x2**2\n",
    "    return -q  \n",
    "\n",
    "#constraints\n",
    "def budget_constraint(x):\n",
    "    x1, x2 = x\n",
    "    return 180 - (8 * x1 + 5 * x2)\n",
    "\n",
    "#variable bounds\n",
    "bounds = [(0, None), (0, None)]\n",
    "\n",
    "constraints = {'type': 'ineq', 'fun': budget_constraint}\n",
    "\n",
    "initial_guess = [0, 0]\n",
    "\n",
    "#optimization\n",
    "result = minimize(objective, initial_guess, method='SLSQP', bounds=bounds, constraints=constraints)\n",
    "\n",
    "#solve\n",
    "x1_opt, x2_opt = result.x\n",
    "q_opt = -result.fun\n",
    "\n",
    "#print results\n",
    "print(f\"Optimal amount of raw material 1: {x1_opt:.4f} units\")\n",
    "print(f\"Optimal amount of raw material 2: {x2_opt:.4f} units\")\n",
    "print(f\"Maximum quantity of fertilizer: {q_opt:.4f} units\")\n"
   ]
  },
  {
   "cell_type": "code",
   "execution_count": 2,
   "id": "bc1da4f8-7a18-49e3-b617-0ca5fbf95f6e",
   "metadata": {},
   "outputs": [
    {
     "name": "stdout",
     "output_type": "stream",
     "text": [
      "Initial Objective: -0.0\n",
      "Final Objective: 67.96491228070157\n",
      "Solution\n",
      "x1 = 12.280702337058102\n",
      "x2 = 16.350876260707032\n"
     ]
    }
   ],
   "source": [
    "import numpy as np\n",
    "from scipy.optimize import minimize\n",
    "def objective(x):\n",
    "    x1 = x[0]\n",
    "    x2 = x[1]\n",
    "    q = -1 * (6*x1 + 4*x2 - 0.25*x1**2 - 0.125*x2**2)\n",
    "    return q\n",
    "\n",
    "def constraint1(x):\n",
    "    x1 = x[0]\n",
    "    x2 = x[1]\n",
    "    return 8*x1 + 5*x2 - 180\n",
    "\n",
    "\n",
    "#intial\n",
    "x0 = [0, 0]\n",
    "\n",
    "#initial obj\n",
    "print('Initial Objective: ' + str(objective(x0)))\n",
    "\n",
    "#optimize\n",
    "b = (0.0,None)\n",
    "bnds = (b, b) ## greater than 0 constraints\n",
    "con1 = {'type': 'ineq', 'fun': constraint1}\n",
    "cons = ([con1])\n",
    "solution = minimize(objective,x0,method='SLSQP', bounds=bnds,constraints=cons)\n",
    "x = solution.x\n",
    "\n",
    "#print\n",
    "print('Final Objective: ' + str(objective(x) * -1))\n",
    "\n",
    "#solve\n",
    "print('Solution')\n",
    "print('x1 = ' + str(x[0]))\n",
    "print('x2 = ' + str(x[1]))"
   ]
  },
  {
   "cell_type": "markdown",
   "id": "f2ab4bbf-4e36-4f83-b26c-2e1fd5c80d02",
   "metadata": {},
   "source": [
    "### **Question 2**"
   ]
  },
  {
   "cell_type": "code",
   "execution_count": 8,
   "id": "8cadc730-cd3a-4dd6-a4df-f0f55abb049c",
   "metadata": {},
   "outputs": [
    {
     "name": "stdout",
     "output_type": "stream",
     "text": [
      "Optimal length of fencing purchased (x1): 69.59819968327108\n",
      "Optimal number of East-West fence length (x2): 27.48870772728332\n",
      "Optimal number of North-South fence length (x3): 42.109491955987764\n",
      "Maximized Area Covered (Z): 289.3838792306339\n"
     ]
    }
   ],
   "source": [
    "import numpy as np\n",
    "from scipy.optimize import minimize  \n",
    "\n",
    "def objective_function(x):\n",
    "    x1, x2, x3 = x\n",
    "    x1 = x2 + x3  \n",
    "    return -(x2 / 2 * x3 / 2)  \n",
    "\n",
    "#constraints\n",
    "def constraint1(x):\n",
    "    x1, x2, x3 = x\n",
    "    x1 = x2 + x3  \n",
    "    return 120 - x1  \n",
    "\n",
    "def constraint2(x):\n",
    "    x1, x2, x3 = x\n",
    "    x1 = x2 + x3 \n",
    "    return 25 - np.sqrt(x1)  \n",
    "\n",
    "def constraint3(x):\n",
    "    x1, x2, x3 = x\n",
    "    x1 = x2 + x3 \n",
    "    return 150 - ((3 * x2 - np.sqrt(x1)) + (2 * x3 - np.sqrt(x1)))  \n",
    "\n",
    "#initial guess\n",
    "x0 = [1, 1, 1]\n",
    "\n",
    "#constraints, bounds\n",
    "constraints = [\n",
    "    {'type': 'ineq', 'fun': constraint1},\n",
    "    {'type': 'ineq', 'fun': constraint2},\n",
    "    {'type': 'ineq', 'fun': constraint3},\n",
    "   # {'type': 'ineq', 'fun': constraint4}\n",
    "]\n",
    "bnds = [(0, 120), (0, None), (0, None)]  \n",
    "\n",
    "#solve\n",
    "solution = minimize(objective_function, x0, method='SLSQP', bounds=bnds, constraints=constraints)\n",
    "x1, x2, x3 = solution.x\n",
    "\n",
    "x1 = x2 + x3\n",
    "if x1 > 120:\n",
    "    x1 = 120\n",
    "\n",
    "\n",
    "print(f'Optimal length of fencing purchased (x1): {x1}')\n",
    "print(f'Optimal number of East-West fence length (x2): {x2}')\n",
    "print(f'Optimal number of North-South fence length (x3): {x3}')\n",
    "print(f'Maximized Area Covered (Z): {-objective_function([x1, x2, x3])}')"
   ]
  },
  {
   "cell_type": "markdown",
   "id": "2d1ea5ea-ef54-439e-affe-46387f735ffa",
   "metadata": {},
   "source": [
    "### **Question 5**"
   ]
  },
  {
   "cell_type": "code",
   "execution_count": 4,
   "id": "4a889370-7740-48da-8612-88814022ccb9",
   "metadata": {},
   "outputs": [
    {
     "name": "stdout",
     "output_type": "stream",
     "text": [
      "Optimal Solution:\n",
      "Orchard 1 Bushels: 50.0\n",
      "Orchard 2 Bushels: 30.0\n",
      "Orchard 3 Bushels: 40.0\n",
      "Optimal values:\n",
      "x1 = 50.0\n",
      "x2 = 30.0\n",
      "x3 = 40.0\n",
      "y = 1.0\n",
      "Maximized Profit: $ 1630.0\n"
     ]
    },
    {
     "name": "stderr",
     "output_type": "stream",
     "text": [
      "C:\\Anaconda\\Lib\\site-packages\\pulp\\pulp.py:1316: UserWarning: Spaces are not permitted in the name. Converted to '_'\n",
      "  warnings.warn(\"Spaces are not permitted in the name. Converted to '_'\")\n"
     ]
    }
   ],
   "source": [
    "import pulp\n",
    "from pulp import LpVariable, LpProblem, LpMaximize, LpStatus, value, LpMinimize\n",
    "\n",
    "prob = LpProblem(\"Maximize Profit\", LpMaximize)\n",
    "\n",
    "#variables\n",
    "x1 = LpVariable(\"x1\", 0, None)  \n",
    "x2 = LpVariable(\"x2\", 0, None) \n",
    "x3 = LpVariable('x3', 20, 40 )\n",
    "y = LpVariable('y', cat='Binary')\n",
    "\n",
    "#obj\n",
    "prob += 10 * x1 + 11 * x2 + 20 * x3\n",
    "\n",
    "#constraints\n",
    "prob += 5 * x1 + 6 * x2 + 8 * x3 <= 750 \n",
    "prob += x1 <= 50\n",
    "prob += x3 >= 20 * y \n",
    "prob += x3 <= 40 * y\n",
    "\n",
    "\n",
    "#solve\n",
    "prob.solve()\n",
    "\n",
    "#print\n",
    "print(\"Optimal Solution:\")\n",
    "print(\"Orchard 1 Bushels:\", value(x1))\n",
    "print(\"Orchard 2 Bushels:\", value(x2))\n",
    "print(\"Orchard 3 Bushels:\", value(x3))\n",
    "print(\"Optimal values:\")\n",
    "for v in prob.variables():\n",
    "    print(v.name, \"=\", v.varValue)\n",
    "print(\"Maximized Profit: $\", value(prob.objective))"
   ]
  }
 ],
 "metadata": {
  "kernelspec": {
   "display_name": "Python 3 (ipykernel)",
   "language": "python",
   "name": "python3"
  },
  "language_info": {
   "codemirror_mode": {
    "name": "ipython",
    "version": 3
   },
   "file_extension": ".py",
   "mimetype": "text/x-python",
   "name": "python",
   "nbconvert_exporter": "python",
   "pygments_lexer": "ipython3",
   "version": "3.11.5"
  }
 },
 "nbformat": 4,
 "nbformat_minor": 5
}
