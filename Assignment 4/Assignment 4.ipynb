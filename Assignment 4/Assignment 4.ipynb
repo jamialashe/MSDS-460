{
 "cells": [
  {
   "cell_type": "markdown",
   "id": "697b97ea-0293-473c-a2d5-bc9aa77e6e55",
   "metadata": {},
   "source": [
    "# **Assignment 4**"
   ]
  },
  {
   "cell_type": "markdown",
   "id": "6c60f4c8-46cb-46fb-8928-53765e30e298",
   "metadata": {},
   "source": [
    "## **Question 1**"
   ]
  },
  {
   "cell_type": "code",
   "execution_count": 5,
   "id": "a32f94dc-d391-4a5d-be21-06fd4611c330",
   "metadata": {},
   "outputs": [
    {
     "name": "stdout",
     "output_type": "stream",
     "text": [
      "Probability of hitting each section:\n",
      "Black: 0.008\n",
      "Purple: 0.06375\n",
      "Green: 0.12635\n",
      "Blue: 0.187\n",
      "Red: 0.4022\n",
      "The Long-term average score per shot is : 4.16\n"
     ]
    }
   ],
   "source": [
    "import numpy as np\n",
    "import random\n",
    "\n",
    "def hits(N):\n",
    "    black_hits = 0\n",
    "    purple_hits = 0\n",
    "    green_hits = 0\n",
    "    blue_hits = 0\n",
    "    red_hits = 0\n",
    "    out_hits = 0\n",
    "    \n",
    "    for i in range(N):\n",
    "        x = random.uniform(-1, 1)\n",
    "        y = random.uniform(-1, 1)\n",
    "\n",
    "        # Radius\n",
    "        r = np.sqrt(x**2 + y**2)\n",
    "\n",
    "        if r <= 0.1:\n",
    "            black_hits += 1\n",
    "        elif r <= 0.3:\n",
    "            purple_hits += 1\n",
    "        elif r <= 0.5:\n",
    "            green_hits += 1\n",
    "        elif r <= 0.7:\n",
    "            blue_hits += 1\n",
    "        elif r <= 1.0:\n",
    "            red_hits += 1\n",
    "        else:\n",
    "            out_hits += 1\n",
    "        \n",
    "    # Probabilities\n",
    "    total_hits = black_hits + purple_hits + green_hits + blue_hits + red_hits + out_hits\n",
    "    black_prob = black_hits / total_hits\n",
    "    purple_prob = purple_hits / total_hits\n",
    "    green_prob = green_hits / total_hits\n",
    "    blue_prob = blue_hits / total_hits\n",
    "    red_prob = red_hits / total_hits\n",
    "    \n",
    "    return black_prob, purple_prob, green_prob, blue_prob, red_prob\n",
    "\n",
    "N_sims = 20000\n",
    "\n",
    "black_prob, purple_prob, green_prob, blue_prob, red_prob = hits(N_sims)\n",
    "\n",
    "#esults\n",
    "print(\"Probability of hitting each section:\")\n",
    "print(\"Black:\", black_prob)\n",
    "print(\"Purple:\", purple_prob)\n",
    "print(\"Green:\", green_prob)\n",
    "print(\"Blue:\", blue_prob)\n",
    "print(\"Red:\", red_prob)\n",
    "\n",
    "probabilities = [black_prob, purple_prob, green_prob, blue_prob, red_prob]\n",
    "scores = [1, 2, 3, 4, 5] \n",
    "\n",
    "probabilities = [black_prob, purple_prob, green_prob, blue_prob, red_prob]\n",
    "probabilities = np.array(probabilities)\n",
    "probabilities /= probabilities.sum()\n",
    "\n",
    "#random\n",
    "N = 20000\n",
    "hit = np.random.choice(scores, size=N, p=probabilities)\n",
    "\n",
    "#solve\n",
    "average_score = np.mean(hit)\n",
    "\n",
    "print(f\"The Long-term average score per shot is : {average_score:.2f}\")\n",
    "\n",
    "\n"
   ]
  },
  {
   "cell_type": "markdown",
   "id": "15edcbaa-8976-4d66-83ab-fd52a78fc936",
   "metadata": {},
   "source": [
    "### **Question 2**"
   ]
  },
  {
   "cell_type": "code",
   "execution_count": 6,
   "id": "e1aa8975-df5a-43d9-9233-443da82a2bb5",
   "metadata": {},
   "outputs": [
    {
     "name": "stdout",
     "output_type": "stream",
     "text": [
      "Expected Daily Bonus: $35.27\n"
     ]
    }
   ],
   "source": [
    "import numpy as np\n",
    "\n",
    "#iterations and daily prob\n",
    "iterations = 17000\n",
    "prob_more_than_4 = 0.4\n",
    "\n",
    "#over 4 bikes sold prob\n",
    "num_bikes_probabilities = [0.4, 0.35, 0.2, 0.05]\n",
    "num_bikes_sold = [5, 6, 7, 8]\n",
    "\n",
    "#model prob\n",
    "model_probabilities = [0.45, 0.35, 0.15, 0.05]\n",
    "model_bonuses = [10, 15, 25, 30]\n",
    "\n",
    "#simulation\n",
    "total_bonus = 0\n",
    "\n",
    "for _ in range(iterations):\n",
    "    if np.random.rand() < prob_more_than_4:\n",
    "        # Determine the number of bikes sold\n",
    "        num_bikes = np.random.choice(num_bikes_sold, p=num_bikes_probabilities)\n",
    "        \n",
    "        # Calculate the bonus for each bike sold\n",
    "        for _ in range(num_bikes):\n",
    "            model = np.random.choice(range(4), p=model_probabilities)\n",
    "            total_bonus += model_bonuses[model]\n",
    "\n",
    "#solve bonus\n",
    "expected_bonus = total_bonus / iterations\n",
    "print(f\"Expected Daily Bonus: ${expected_bonus:.2f}\")\n"
   ]
  },
  {
   "cell_type": "markdown",
   "id": "ffa7f4f0-6fcf-4e1e-b885-dfba36ae89de",
   "metadata": {},
   "source": [
    "### **Question 3**"
   ]
  },
  {
   "cell_type": "code",
   "execution_count": 3,
   "id": "fc7d8b05-dcec-4f01-9f88-f9227e0e2caa",
   "metadata": {},
   "outputs": [
    {
     "name": "stdout",
     "output_type": "stream",
     "text": [
      "Expected 401(k) Balance at Age 60: $327461.79\n"
     ]
    }
   ],
   "source": [
    "import numpy as np\n",
    "\n",
    "#parameters\n",
    "iterations = 17000\n",
    "start_age = 24\n",
    "end_age = 60\n",
    "years = end_age - start_age\n",
    "\n",
    "initial_salary = 55000\n",
    "contribution_rate = 0.09  #both\n",
    "\n",
    "#salary\n",
    "avg_salary_raise = 0.0283\n",
    "std_salary_raise = 0.0072\n",
    "\n",
    "#investments\n",
    "investment_allocation = {\n",
    "    \"A\": 0.50,\n",
    "    \"B\": 0.25,\n",
    "    \"C\": 0.25\n",
    "}\n",
    "investment_returns = {\n",
    "    \"A\": {\"mean\": 0.0691, \"std\": 0.1289},\n",
    "    \"B\": {\"mean\": 0.0894, \"std\": 0.1521},\n",
    "    \"C\": {\"mean\": 0.0988, \"std\": 0.1714}\n",
    "}\n",
    "\n",
    "#simulation\n",
    "final_balances = []\n",
    "\n",
    "for _ in range(iterations):\n",
    "    salary = initial_salary\n",
    "    balance = 0\n",
    "\n",
    "    for year in range(years):\n",
    "        annual_contribution = salary * contribution_rate\n",
    "        \n",
    "        #return\n",
    "        for investment, allocation in investment_allocation.items():\n",
    "            contribution = annual_contribution * allocation\n",
    "            annual_return = np.random.normal(investment_returns[investment][\"mean\"], investment_returns[investment][\"std\"])\n",
    "            balance += contribution * (1 + annual_return)\n",
    "        \n",
    "        salary_raise = np.random.normal(avg_salary_raise, std_salary_raise)\n",
    "        salary *= (1 + salary_raise)\n",
    "    \n",
    "    final_balances.append(balance)\n",
    "\n",
    "#solve\n",
    "expected_final_balance = np.mean(final_balances)\n",
    "print(f\"Expected 401(k) Balance at Age 60: ${expected_final_balance:.2f}\")\n"
   ]
  },
  {
   "cell_type": "markdown",
   "id": "f8c03331-1c81-455b-af5f-fd0d1164c641",
   "metadata": {},
   "source": [
    "### **Question 4**"
   ]
  },
  {
   "cell_type": "code",
   "execution_count": 7,
   "id": "ed999b17-8ce9-4329-a255-3604a87f4b6b",
   "metadata": {},
   "outputs": [
    {
     "name": "stdout",
     "output_type": "stream",
     "text": [
      "Best Value: 516\n",
      "Best Solution: [10, 10, 2, 10]\n"
     ]
    }
   ],
   "source": [
    "import random\n",
    "\n",
    "#parameters\n",
    "values = [12, 16, 22, 8]\n",
    "weights = [4, 5, 7, 3]\n",
    "capacity = 140\n",
    "max_quantity = 10\n",
    "num_items = len(values)\n",
    "\n",
    "#greedy hueristic\n",
    "def greedy_heuristic(values, weights, capacity, max_quantity):\n",
    "    #value/weight\n",
    "    value_weight_ratio = [(values[i] / weights[i], i) for i in range(len(values))]\n",
    "    #value/weight sort\n",
    "    value_weight_ratio.sort(reverse=True, key=lambda x: x[0])\n",
    "    \n",
    "    total_value = 0\n",
    "    total_weight = 0\n",
    "    solution = [0] * num_items\n",
    "    \n",
    "    for ratio, i in value_weight_ratio:\n",
    "        if total_weight < capacity:\n",
    "            max_add = min(max_quantity, (capacity - total_weight) // weights[i])\n",
    "            solution[i] = max_add\n",
    "            total_value += max_add * values[i]\n",
    "            total_weight += max_add * weights[i]\n",
    "    \n",
    "    return total_value, solution\n",
    "    \n",
    "#metahueristic\n",
    "def random_restart_heuristic(values, weights, capacity, max_quantity, n_iterations):\n",
    "    best_value = 0\n",
    "    best_solution = None\n",
    "    \n",
    "    for _ in range(n_iterations):\n",
    "        random_values = values[:]\n",
    "        random.shuffle(random_values)\n",
    "        total_value, solution = greedy_heuristic(random_values, weights, capacity, max_quantity)\n",
    "        if total_value > best_value:\n",
    "            best_value = total_value\n",
    "            best_solution = solution\n",
    "    \n",
    "    return best_value, best_solution\n",
    "\n",
    "#solve\n",
    "n_iterations = 17000\n",
    "best_value, best_solution = random_restart_heuristic(values, weights, capacity, max_quantity, n_iterations)\n",
    "print(f\"Best Value: {best_value}\")\n",
    "print(f\"Best Solution: {best_solution}\")"
   ]
  },
  {
   "cell_type": "markdown",
   "id": "b98e18e6-6fcc-4248-86bc-0a643c6d2b84",
   "metadata": {},
   "source": [
    "### **Question 5**"
   ]
  },
  {
   "cell_type": "code",
   "execution_count": 5,
   "id": "68946fd6-acc6-40e5-8911-db77f58874fa",
   "metadata": {},
   "outputs": [
    {
     "name": "stdout",
     "output_type": "stream",
     "text": [
      "Iteration 0: Best Value = 358, Best Solution = [ 1 10  7  4]\n",
      "Iteration 100: Best Value = 380, Best Solution = [ 1 10  8  4]\n",
      "Iteration 200: Best Value = 380, Best Solution = [ 1 10  8  4]\n",
      "Iteration 300: Best Value = 380, Best Solution = [ 1 10  8  4]\n",
      "Iteration 400: Best Value = 380, Best Solution = [ 1 10  8  4]\n",
      "Iteration 500: Best Value = 380, Best Solution = [ 1 10  8  4]\n",
      "Iteration 600: Best Value = 380, Best Solution = [ 1 10  8  4]\n",
      "Iteration 700: Best Value = 380, Best Solution = [ 1 10  8  4]\n",
      "Iteration 800: Best Value = 380, Best Solution = [ 1 10  8  4]\n",
      "Iteration 900: Best Value = 380, Best Solution = [ 1 10  8  4]\n",
      "\n",
      "Final Solution: [ 1 10  8  4]\n",
      "Final Objective Value: 380\n"
     ]
    }
   ],
   "source": [
    "import numpy as np\n",
    "\n",
    "# Define the objective function and the constraint\n",
    "def objective_function(x):\n",
    "    return 12 * x[0] + 16 * x[1] + 22 * x[2] + 8 * x[3]\n",
    "\n",
    "def constraint(x):\n",
    "    return 4 * x[0] + 5 * x[1] + 7 * x[2] + 3 * x[3]\n",
    "\n",
    "# Simulated Annealing parameters\n",
    "initial_temperature = 1000\n",
    "cooling_rate = 0.95\n",
    "iterations = 1000\n",
    "min_temperature = 1e-5\n",
    "\n",
    "# Initial solution (randomly generated within the bounds)\n",
    "x_current = np.random.randint(0, 11, 4)\n",
    "best_solution = x_current.copy()\n",
    "best_value = objective_function(x_current)\n",
    "\n",
    "# Simulated Annealing process\n",
    "temperature = initial_temperature\n",
    "for i in range(iterations):\n",
    "    # Generate a neighbor solution by modifying one of the variables\n",
    "    x_new = x_current.copy()\n",
    "    index = np.random.randint(0, 4)\n",
    "    x_new[index] = np.clip(x_new[index] + np.random.choice([-1, 1]), 0, 10)\n",
    "    \n",
    "    # Ensure the new solution satisfies the constraint\n",
    "    if constraint(x_new) <= 140:\n",
    "        new_value = objective_function(x_new)\n",
    "        \n",
    "        # Calculate the acceptance probability\n",
    "        if new_value > best_value:\n",
    "            best_solution = x_new.copy()\n",
    "            best_value = new_value\n",
    "            x_current = x_new.copy()\n",
    "        else:\n",
    "            delta = new_value - best_value\n",
    "            acceptance_probability = np.exp(delta / temperature)\n",
    "            if np.random.rand() < acceptance_probability:\n",
    "                x_current = x_new.copy()\n",
    "    \n",
    "    # Cool down the temperature\n",
    "    temperature = max(temperature * cooling_rate, min_temperature)\n",
    "    \n",
    "    # Print progress\n",
    "    if i % 100 == 0:\n",
    "        print(f\"Iteration {i}: Best Value = {best_value}, Best Solution = {best_solution}\")\n",
    "\n",
    "# Final result\n",
    "print(f\"\\nFinal Solution: {best_solution}\")\n",
    "print(f\"Final Objective Value: {best_value}\")\n"
   ]
  }
 ],
 "metadata": {
  "kernelspec": {
   "display_name": "Python 3 (ipykernel)",
   "language": "python",
   "name": "python3"
  },
  "language_info": {
   "codemirror_mode": {
    "name": "ipython",
    "version": 3
   },
   "file_extension": ".py",
   "mimetype": "text/x-python",
   "name": "python",
   "nbconvert_exporter": "python",
   "pygments_lexer": "ipython3",
   "version": "3.11.5"
  }
 },
 "nbformat": 4,
 "nbformat_minor": 5
}
