{
 "cells": [
  {
   "cell_type": "code",
   "execution_count": null,
   "id": "55095f29-f594-4fa0-8220-2a46a750b44c",
   "metadata": {},
   "outputs": [],
   "source": [
    "import pulp\n",
    "from pulp import LpVariable, LpProblem, LpMaximize, LpStatus, value, LpMinimize\n",
    "\n",
    "\n",
    "prob = LpProblem(\"problem\", LpMaximize)\n",
    "\n",
    "#variables\n",
    "x1 = LpVariable('x1', 0, None)\n",
    "x2 = LpVariable('x2', 0, None)\n",
    "x3 = LpVariable('x1', 0, None)\n",
    "x4 = LpVariable('x2', 0, None)\n",
    "\n",
    "\n",
    "\n",
    "x1 + x2 + x3 + x4 ≤ 650\n",
    "x1 ≤ 500\n",
    "x2 ≤ 500\n",
    "x3 ≤ 500\n",
    "x4 ≤ 500\n"
   ]
  }
 ],
 "metadata": {
  "kernelspec": {
   "display_name": "Python 3 (ipykernel)",
   "language": "python",
   "name": "python3"
  },
  "language_info": {
   "codemirror_mode": {
    "name": "ipython",
    "version": 3
   },
   "file_extension": ".py",
   "mimetype": "text/x-python",
   "name": "python",
   "nbconvert_exporter": "python",
   "pygments_lexer": "ipython3",
   "version": "3.11.5"
  }
 },
 "nbformat": 4,
 "nbformat_minor": 5
}
