{
 "cells": [
  {
   "cell_type": "code",
   "execution_count": 11,
   "metadata": {},
   "outputs": [
    {
     "name": "stdout",
     "output_type": "stream",
     "text": [
      "Status: Optimal\n",
      "couches = 50.0\n",
      "love_seats = 43.0\n",
      "Objective = 70450.0\n",
      "\n",
      "Sensitivity Analysis:\n",
      "\n",
      "GLPK 5.0  - SENSITIVITY ANALYSIS REPORT                                                                         Page   1\n",
      "\n",
      "Problem:    \n",
      "Objective:  OBJ = 70450 (MAXimum)\n",
      "\n",
      "   No. Row name     St      Activity         Slack   Lower bound       Activity      Obj coef  Obj value at Limiting\n",
      "                                          Marginal   Upper bound          range         range   break point variable\n",
      "------ ------------ -- ------------- ------------- -------------  ------------- ------------- ------------- ------------\n",
      "     1 _C1          NU    9010.00000        .               -Inf     8800.00000      -9.28571   68500.00000 love_seats\n",
      "                                           9.28571    9010.00000     9500.00000          +Inf   75000.00000 _C3\n",
      "\n",
      "     2 _C2          BS    3075.00000     425.00000          -Inf     3000.00000     -26.00000   -9500.00000 _C1\n",
      "                                            .         3500.00000     3075.00000          +Inf          +Inf\n",
      "\n",
      "     3 _C3          BS     236.00000      14.00000          -Inf      230.00000    -325.00000   -6250.00000 _C1\n",
      "                                            .          250.00000      236.00000          +Inf          +Inf\n",
      "\n",
      "GLPK 5.0  - SENSITIVITY ANALYSIS REPORT                                                                         Page   2\n",
      "\n",
      "Problem:    \n",
      "Objective:  OBJ = 70450 (MAXimum)\n",
      "\n",
      "   No. Column name  St      Activity      Obj coef   Lower bound       Activity      Obj coef  Obj value at Limiting\n",
      "                                          Marginal   Upper bound          range         range   break point variable\n",
      "------ ------------ -- ------------- ------------- -------------  ------------- ------------- ------------- ------------\n",
      "     1 couches      NL      50.00000     850.00000      50.00000       17.33333          -Inf   79083.33333 _C3\n",
      "                                        -264.28571          +Inf       51.75000    1114.28571   69987.50000 love_seats\n",
      "\n",
      "     2 love_seats   BS      43.00000     650.00000      40.00000           -Inf     495.83333   63820.83333 couches\n",
      "                                            .               +Inf       43.00000          +Inf          +Inf\n",
      "\n",
      "End of report\n",
      "\n"
     ]
    }
   ],
   "source": [
    "import pulp\n",
    "from pulp import LpMaximize, LpProblem, LpVariable, lpSum, LpStatus, value, GLPK\n",
    "\n",
    "## Pip did not work well for me, I had to set up a conda env and download GLPK through that. \n",
    "\n",
    "# Define the problem\n",
    "prob = LpProblem(\"Maximize_Seat_and_Greet_Profit\", LpMaximize)\n",
    "\n",
    "# Define decision variables\n",
    " = LpVariable('couches', lowBound=50, cat='Continuous')  # At least 50 couches\n",
    "love_seats = LpVariable('love_seats', lowBound=40, cat='Continuous')  # At least 40 love seats\n",
    "\n",
    "# Objective function\n",
    "prob += 850 * couches + 650 * love_seats\n",
    "\n",
    "# Constraints\n",
    "prob += 120 * couches + 70 * love_seats <= 9010  # Fabric constraint\n",
    "prob += 40 * couches + 25 * love_seats <= 3500   # Stuffing constraint\n",
    "prob += 3 * couches + 2 * love_seats <= 250      # Workers constraint\n",
    "\n",
    "# Solve the problem\n",
    "prob.writeLP(\"prob.lp\")\n",
    "prob.solve(GLPK(options=['--ranges', 'prob.sen']))\n",
    "\n",
    "# Print the status of the solution\n",
    "print(\"Status:\", LpStatus[prob.status])\n",
    "\n",
    "# Print the results\n",
    "for v in prob.variables():\n",
    "    print(f\"{v.name} = {v.varValue}\")\n",
    "\n",
    "print(f\"Objective = {value(prob.objective)}\")\n",
    "\n",
    "# Reading the sensitivity analysis output\n",
    "print(\"\\nSensitivity Analysis:\\n\")\n",
    "print(sensitivity_analysis)\n"
   ]
  }
 ],
 "metadata": {
  "kernelspec": {
   "display_name": "Python 3 (ipykernel)",
   "language": "python",
   "name": "python3"
  },
  "language_info": {
   "codemirror_mode": {
    "name": "ipython",
    "version": 3
   },
   "file_extension": ".py",
   "mimetype": "text/x-python",
   "name": "python",
   "nbconvert_exporter": "python",
   "pygments_lexer": "ipython3",
   "version": "3.11.5"
  }
 },
 "nbformat": 4,
 "nbformat_minor": 4
}
