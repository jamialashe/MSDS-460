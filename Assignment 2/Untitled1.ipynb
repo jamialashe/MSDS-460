{
 "cells": [
  {
   "cell_type": "code",
   "execution_count": 5,
   "id": "d1a8a90c-342a-45de-8bae-004cf6faa3a3",
   "metadata": {},
   "outputs": [
    {
     "name": "stdout",
     "output_type": "stream",
     "text": [
      "Problem\n",
      "status=Optimal\n",
      "bedroom = 0.0\n",
      "dining = 0.0016666667\n",
      "gaming = 0.0\n",
      "sofa = 0.0\n",
      "tv = 0.0\n",
      "Objective = 0.08000000160000001\n",
      "\n"
     ]
    }
   ],
   "source": [
    "from pulp import LpVariable, LpProblem, LpMaximize, LpStatus, value, LpMinimize\n",
    "\n",
    "#define variables\n",
    "x1 = LpVariable (\"bedroom\", 0, 1, cat = \"integer\")\n",
    "x2 = LpVariable (\"dining\", 0, 1, cat = \"integer\")\n",
    "x3 = LpVariable (\"gaming\", 0, 1, cat = \"integer\")\n",
    "x4 = LpVariable (\"sofa\", 0, 1, cat = \"integer\")\n",
    "x5 = LpVariable (\"tv\", 0, 1, cat = \"integer\")\n",
    "\n",
    "#define problem\n",
    "prob = LpProblem (\"problem\", LpMaximize)\n",
    "\n",
    "#obj function\n",
    "prob += 60 * x1 + 48 * x2 + 14 * x3 + 31 * x4 + 10 * x5\n",
    "\n",
    "#constraints\n",
    "prob += 800 *x1 + 600 * x2 + 300 * x3 + 400 * x4 + 200 * x5 <= 1,100\n",
    "\n",
    "#solve the problem\n",
    "status = prob.solve()\n",
    "print(f\"Problem\")\n",
    "print(f\"status={LpStatus[status]}\")\n",
    "\n",
    "# print the results\n",
    "for variable in prob.variables():\n",
    "    print(f\"{variable.name} = {variable.varValue}\")\n",
    "    \n",
    "print(f\"Objective = {value(prob.objective)}\")\n",
    "print(f\"\")\n",
    "\n"
   ]
  },
  {
   "cell_type": "code",
   "execution_count": 6,
   "id": "99d50c4c-b6e1-4202-a4fa-ebae241cf77b",
   "metadata": {},
   "outputs": [
    {
     "name": "stdout",
     "output_type": "stream",
     "text": [
      "Problem Status: Optimal\n",
      "x_Bedroom_set = 0.0\n",
      "x_Dining_room_set = 1.0\n",
      "x_Gaming_computer = 0.0\n",
      "x_Sofa = 1.0\n",
      "x_TV = 0.0\n",
      "Objective Value = 79.0\n"
     ]
    }
   ],
   "source": [
    "from pulp import LpMaximize, LpProblem, LpVariable, lpSum, LpStatus, value\n",
    "\n",
    "# Define the problem\n",
    "prob = LpProblem(\"KnapsackProblem\", LpMaximize)\n",
    "\n",
    "# Item data\n",
    "item_names = [\"Bedroom_set\", \"Dining_room_set\", \"Gaming_computer\", \"Sofa\", \"TV\"]\n",
    "values = [60, 48, 14, 31, 10]\n",
    "volumes = [800, 600, 300, 400, 200]\n",
    "capacity = 1100\n",
    "\n",
    "# Define decision variables\n",
    "x = LpVariable.dicts(\"x\", item_names, cat=\"Binary\")\n",
    "\n",
    "# Objective function\n",
    "prob += lpSum(values[i] * x[item_names[i]] for i in range(len(item_names))), \"Total Value\"\n",
    "\n",
    "# Constraint: total volume must not exceed capacity\n",
    "prob += lpSum(volumes[i] * x[item_names[i]] for i in range(len(item_names))) <= capacity, \"Total Volume\"\n",
    "\n",
    "# Solve the problem\n",
    "status = prob.solve()\n",
    "\n",
    "# Print the results\n",
    "print(f\"Problem Status: {LpStatus[status]}\")\n",
    "\n",
    "for variable in prob.variables():\n",
    "    print(f\"{variable.name} = {variable.varValue}\")\n",
    "\n",
    "print(f\"Objective Value = {value(prob.objective)}\")\n"
   ]
  },
  {
   "cell_type": "code",
   "execution_count": null,
   "id": "966c7c51-a11c-4a8b-bbde-8fecff37fd21",
   "metadata": {},
   "outputs": [],
   "source": []
  }
 ],
 "metadata": {
  "kernelspec": {
   "display_name": "Python 3 (ipykernel)",
   "language": "python",
   "name": "python3"
  },
  "language_info": {
   "codemirror_mode": {
    "name": "ipython",
    "version": 3
   },
   "file_extension": ".py",
   "mimetype": "text/x-python",
   "name": "python",
   "nbconvert_exporter": "python",
   "pygments_lexer": "ipython3",
   "version": "3.11.5"
  }
 },
 "nbformat": 4,
 "nbformat_minor": 5
}
